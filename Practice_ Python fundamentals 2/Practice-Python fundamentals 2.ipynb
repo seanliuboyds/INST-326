{
 "cells": [
  {
   "cell_type": "markdown",
   "id": "e4253886",
   "metadata": {},
   "source": [
    "## With Statments // Context Managers\n",
    "\n",
    "### File Objects can be used as Context Managers\n",
    "- They will close themselves when they are done being used\n",
    "\n",
    "### With statements let you use Context Managers\n",
    "\n",
    "\n",
    "```\n",
    "with open(\"file.txt\", \"r\", encoding = \"utf-8\") as f:\n",
    "    for x in f:\n",
    "        do something\n",
    "```\n"
   ]
  },
  {
   "cell_type": "code",
   "execution_count": 6,
   "id": "89b713c4",
   "metadata": {},
   "outputs": [
    {
     "name": "stdout",
     "output_type": "stream",
     "text": [
      "\n",
      "\n",
      "\n",
      "\n",
      "What\n",
      "\n",
      "\n",
      "\n",
      "About\n",
      "\n",
      "\n",
      "\n",
      "Volleyball?\n",
      "\n",
      "How\n",
      "\n",
      "\n",
      "\n",
      "About\n",
      "\n",
      "\n",
      "\n",
      "Football?\n",
      "Happened\n",
      "\n",
      "Sports\n"
     ]
    }
   ],
   "source": [
    "# Context Management\n",
    "with open(\"file.txt\", \"r\", encoding=\"utf-8\") as f:\n",
    "    for x in f:\n",
    "        print(x)\n",
    "\n",
    "# COntext Management with file open\n",
    "with open(\"file2.txt\", \"r\", encoding=\"utf-8\") as f:\n",
    "    for x in f:\n",
    "        if len(x) > 5:\n",
    "            print(x)\n",
    "\n"
   ]
  },
  {
   "cell_type": "markdown",
   "id": "614130b4",
   "metadata": {},
   "source": [
    "## Files\n",
    "\n",
    "Files are either Binary or Text, usually stored as UTF-8 Encoding (Unicode). They are usually organized like trees with multiple branches or folders. The root is the beginning of the file system, on Mac, this is a forward slash \"/\"\n",
    "\n",
    "Absolute paths of files start from the root and path completely to the file. Relative paths start from the current working directory and path to the file, the path is different depending on the current directory.\n",
    "\n",
    "#### File Objects:\n",
    "- Required for file operations in Python\n",
    "- Uses the open() function\n",
    "- Permissions can be reading or writing to file\n",
    "-   Writing to files use w and reading uses r\n",
    "        - You can write to files with either print or write\n",
    "        - You can read to files with either read, readline, or iteration"
   ]
  },
  {
   "cell_type": "code",
   "execution_count": 7,
   "id": "b845f8ed",
   "metadata": {},
   "outputs": [
    {
     "name": "stdout",
     "output_type": "stream",
     "text": [
      "What\n",
      "\n",
      "\n",
      "\n",
      "What\n",
      "\n",
      "About\n",
      "\n",
      "Volleyball?\n",
      "How\n",
      "\n",
      "About\n",
      "\n",
      "Football?\n",
      "\n",
      "\n",
      "Happened\n",
      "\n",
      "\n",
      "\n",
      "To\n",
      "\n",
      "\n",
      "\n",
      "All\n",
      "\n",
      "\n",
      "\n",
      "The\n",
      "\n",
      "\n",
      "\n",
      "Sports\n"
     ]
    }
   ],
   "source": [
    "# Writing to file\n",
    "f = open(\"file.txt\", \"w\", encoding = \"utf-8\")\n",
    "print(\"\\n\\nWhat\\n\\nAbout\\n\\nVolleyball?\", file=f)\n",
    "\n",
    "f.write(\"How\\n\\nAbout\\n\\nFootball?\")\n",
    "f.close()\n",
    "\n",
    "# Reading to file\n",
    "g = open(\"file.txt\", \"r\", encoding = \"utf-8\")\n",
    "k = open(\"file2.txt\", \"r\", encoding = \"utf-8\")\n",
    "\n",
    "print(k.readline())\n",
    "\n",
    "print(g.read())\n",
    "\n",
    "\n",
    "\n",
    "for line in k:\n",
    "    print(line)\n",
    "    pass\n",
    "k.close()"
   ]
  },
  {
   "cell_type": "markdown",
   "id": "61a2845c",
   "metadata": {},
   "source": [
    "## Strings\n",
    "\n",
    "Strings are Text represented in Python with Unicode characters. Unlike single value variables, strings are made up of multiple characters. There isn't a secondary character data type, characters are just Strings with length 1. Strings also let us use emojis and characters from other systems / languages.\n",
    "\n",
    "#### Strings can utilize concatenation to combine Strings, Ints, Booleans, and other data types together. Concatentation typically uses a \"+\" operater to perform these action."
   ]
  },
  {
   "cell_type": "code",
   "execution_count": 8,
   "id": "8cdbd93b",
   "metadata": {},
   "outputs": [
    {
     "name": "stdout",
     "output_type": "stream",
     "text": [
      "#1 Hello world! 999 True ☺️\n",
      "#2 Я мальчик и Я не девочка.\n"
     ]
    }
   ],
   "source": [
    "s = \"Hello\"\n",
    "\n",
    "t = 1 == 1\n",
    "\n",
    "n = 999\n",
    "\n",
    "e = \"☺️\"\n",
    "\n",
    "l = \"world!\"\n",
    "\n",
    "# Multiple Data type test\n",
    "\n",
    "print(\"#1 \" + s + \" \" + l + \" \" + str(n) + \" \" + str(t) + \" \" + e)\n",
    "\n",
    "# Russian test\n",
    "\n",
    "print(\"#2 \" + \"Я мальчик и\" + \" \" + \"Я не девочка.\")\n",
    "#          \"I am a boy and\" + \" \" + \"I am not a girl.\""
   ]
  },
  {
   "cell_type": "markdown",
   "id": "373245c3",
   "metadata": {},
   "source": [
    "## For Loops\n",
    "\n",
    "For loops are a control flow statement used for iterating a number of times depending on a condition / expression. The condition can be an list, string, or other iterable object such as using range(number).\n",
    "\n",
    "### Vairables in For Loops\n",
    "\n",
    "The variable used in a for loop to iterate can be used in the clause of the statement to perform operations and read that variable. It is only accesible in the loop's body. (Unless defined outside of it)"
   ]
  },
  {
   "cell_type": "code",
   "execution_count": 3,
   "id": "b0827232",
   "metadata": {},
   "outputs": [
    {
     "name": "stdout",
     "output_type": "stream",
     "text": [
      "0\n",
      "1\n",
      "2\n",
      "3\n",
      "4\n",
      "5\n",
      "6\n",
      "7\n",
      "8\n",
      "9\n",
      "1\n",
      "2\n",
      "3\n",
      "4\n",
      "5\n",
      "6\n",
      "hello\n",
      "7\n",
      "8\n",
      "9\n",
      "10\n",
      "world\n",
      "world\n"
     ]
    }
   ],
   "source": [
    "# This prints all numbers in range of \n",
    "for i in range(10):\n",
    "    print(i)\n",
    "\n",
    "x = [1, 2, 3, 4, 5, 6, \"hello\", 7, 8, 9, 10, \"world\"]\n",
    "\n",
    "for i in x:\n",
    "    print(i)\n",
    "\n",
    "# This will not raise an error since python doesn't have clause scope for for loops\n",
    "print(i)\n"
   ]
  }
 ],
 "metadata": {
  "kernelspec": {
   "display_name": "Python 3",
   "language": "python",
   "name": "python3"
  },
  "language_info": {
   "codemirror_mode": {
    "name": "ipython",
    "version": 3
   },
   "file_extension": ".py",
   "mimetype": "text/x-python",
   "name": "python",
   "nbconvert_exporter": "python",
   "pygments_lexer": "ipython3",
   "version": "3.13.7"
  }
 },
 "nbformat": 4,
 "nbformat_minor": 5
}
